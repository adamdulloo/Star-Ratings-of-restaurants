{
 "cells": [
  {
   "cell_type": "code",
   "execution_count": 1,
   "metadata": {},
   "outputs": [],
   "source": [
    "# reading training data\n",
    "import pandas as pd\n",
    "train_text = pd.read_csv(\"review_text_train.csv\")\n",
    "meta_data = pd.read_csv(\"review_meta_train.csv\")\n",
    "labels = meta_data[\"rating\"]\n",
    "df_train_text = pd.concat([train_text, pd.DataFrame(labels)],axis=1)"
   ]
  },
  {
   "cell_type": "code",
   "execution_count": 2,
   "metadata": {},
   "outputs": [],
   "source": [
    "import numpy as np\n",
    "import re\n",
    "import nltk"
   ]
  },
  {
   "cell_type": "code",
   "execution_count": 3,
   "metadata": {},
   "outputs": [],
   "source": [
    "X_train, y_train = df_train_text['review'].values, df_train_text['rating'].values"
   ]
  },
  {
   "cell_type": "code",
   "execution_count": 4,
   "metadata": {},
   "outputs": [],
   "source": [
    "wordnet = nltk.WordNetLemmatizer()"
   ]
  },
  {
   "cell_type": "code",
   "execution_count": 5,
   "metadata": {},
   "outputs": [],
   "source": [
    "# cleaning training data\n",
    "documents = []\n",
    "\n",
    "from nltk.stem import WordNetLemmatizer\n",
    "\n",
    "stemmer = WordNetLemmatizer()\n",
    "\n",
    "for sentence in range(0, len(X_train)):\n",
    "    document = re.sub(r'\\W', ' ', str(X_train[sentence]))\n",
    "    document = re.sub(r'\\^[a-zA-Z]\\s+', ' ', document) \n",
    "    document = re.sub(r'\\s+', ' ', document, flags=re.I)\n",
    "    document = re.sub(r'\\s+[a-zA-Z]\\s+', ' ', document)\n",
    "    document = document.lower()\n",
    "    document = document.split()\n",
    "    document = [stemmer.lemmatize(word) for word in document]\n",
    "    document = ' '.join(document)\n",
    "    documents.append(document)"
   ]
  },
  {
   "cell_type": "code",
   "execution_count": 6,
   "metadata": {},
   "outputs": [],
   "source": [
    "from sklearn.feature_extraction.text import CountVectorizer"
   ]
  },
  {
   "cell_type": "code",
   "execution_count": 7,
   "metadata": {},
   "outputs": [],
   "source": [
    "from sklearn.model_selection import train_test_split\n",
    "from sklearn.feature_extraction.text import CountVectorizer"
   ]
  },
  {
   "cell_type": "code",
   "execution_count": 8,
   "metadata": {},
   "outputs": [],
   "source": [
    "# reading testing data\n",
    "df_test = pd.read_csv(\"review_text_test.csv\")\n",
    "X_test = df_test['review']"
   ]
  },
  {
   "cell_type": "code",
   "execution_count": 9,
   "metadata": {},
   "outputs": [],
   "source": [
    "# cleaning testing data\n",
    "# yes this should have been a function - sorry:(\n",
    "docs = []\n",
    "\n",
    "from nltk.stem import WordNetLemmatizer\n",
    "\n",
    "stemmer = WordNetLemmatizer()\n",
    "\n",
    "for sentence in range(0, len(X_test)):\n",
    "    doc = re.sub(r'\\W', ' ', str(X_test[sentence]))\n",
    "    doc = re.sub(r'\\^[a-zA-Z]\\s+', ' ', doc) \n",
    "    doc = re.sub(r'\\s+', ' ', doc, flags=re.I)\n",
    "    doc = re.sub(r'\\s+[a-zA-Z]\\s+', ' ', doc)\n",
    "    doc = doc.lower()\n",
    "    doc = doc.split()\n",
    "    doc = [stemmer.lemmatize(word) for word in doc]\n",
    "    doc = ' '.join(doc)\n",
    "    docs.append(doc)"
   ]
  },
  {
   "cell_type": "code",
   "execution_count": 10,
   "metadata": {},
   "outputs": [],
   "source": [
    "# fitting X_test and X_train to train\n",
    "vectorizer = CountVectorizer()\n",
    "vectorizers = vectorizer.fit(documents)\n",
    "X_train_freq = vectorizers.transform(documents)\n",
    "X_test_freq = vectorizers.transform(docs)"
   ]
  },
  {
   "cell_type": "code",
   "execution_count": 11,
   "metadata": {},
   "outputs": [],
   "source": [
    "# tranforming frequency to tfidf\n",
    "from sklearn.feature_extraction.text import TfidfTransformer\n",
    "tfidf = TfidfTransformer()\n",
    "X_train_tfidf = tfidf.fit_transform(X_train_freq)\n",
    "X_test_tfidf = tfidf.fit_transform(X_test_freq)"
   ]
  },
  {
   "cell_type": "code",
   "execution_count": 12,
   "metadata": {},
   "outputs": [],
   "source": [
    "from sklearn.naive_bayes import MultinomialNB\n",
    "from sklearn.svm import LinearSVC\n",
    "from sklearn.linear_model import LogisticRegression \n",
    "from sklearn.metrics import classification_report, accuracy_score, confusion_matrix\n",
    "from sklearn.model_selection import train_test_split"
   ]
  },
  {
   "cell_type": "code",
   "execution_count": 13,
   "metadata": {},
   "outputs": [],
   "source": [
    "# Splitting data (75/25)\n",
    "# This is used just for evaluation of classifiers\n",
    "X_train, X_test, y_train, y_test = train_test_split(X_train_tfidf, y_train, test_size=0.25, random_state=0)"
   ]
  },
  {
   "cell_type": "code",
   "execution_count": 14,
   "metadata": {},
   "outputs": [
    {
     "name": "stdout",
     "output_type": "stream",
     "text": [
      "              precision    recall  f1-score   support\n",
      "\n",
      "           1       0.00      0.00      0.00       581\n",
      "           3       0.43      0.00      0.00      1639\n",
      "           5       0.68      1.00      0.81      4797\n",
      "\n",
      "    accuracy                           0.68      7017\n",
      "   macro avg       0.37      0.33      0.27      7017\n",
      "weighted avg       0.57      0.68      0.56      7017\n",
      "\n",
      "[[   0    4  577]\n",
      " [   0    3 1636]\n",
      " [   0    0 4797]]\n",
      "0.6840530141085934\n"
     ]
    },
    {
     "name": "stderr",
     "output_type": "stream",
     "text": [
      "C:\\Users\\Adam\\anaconda3\\lib\\site-packages\\sklearn\\metrics\\_classification.py:1272: UndefinedMetricWarning: Precision and F-score are ill-defined and being set to 0.0 in labels with no predicted samples. Use `zero_division` parameter to control this behavior.\n",
      "  _warn_prf(average, modifier, msg_start, len(result))\n"
     ]
    }
   ],
   "source": [
    "# Naive Bayes classifier                     This is if we want to predict the actual test data\n",
    "classifier_1 = MultinomialNB().fit(X_train, y_train) # classifier_1 = MultinomialNB().fit(X_train_freq, y_train)\n",
    "classifier_1_y_pred = classifier_1.predict(X_test) # classifier_1_y_pred = classifier_1.predict(X_test_freq) \n",
    "print(classification_report(y_test, classifier_1_y_pred))\n",
    "print(confusion_matrix(y_test, classifier_1_y_pred))\n",
    "print(accuracy_score(y_test, classifier_1_y_pred))"
   ]
  },
  {
   "cell_type": "code",
   "execution_count": 15,
   "metadata": {},
   "outputs": [
    {
     "name": "stdout",
     "output_type": "stream",
     "text": [
      "              precision    recall  f1-score   support\n",
      "\n",
      "           1       0.90      0.65      0.75       581\n",
      "           3       0.80      0.68      0.74      1639\n",
      "           5       0.89      0.96      0.93      4797\n",
      "\n",
      "    accuracy                           0.87      7017\n",
      "   macro avg       0.86      0.76      0.80      7017\n",
      "weighted avg       0.87      0.87      0.87      7017\n",
      "\n",
      "[[ 375  121   85]\n",
      " [  31 1117  491]\n",
      " [   9  160 4628]]\n",
      "0.8721675929884566\n"
     ]
    }
   ],
   "source": [
    "# Logistic Regression classifier                                     This is if we want to predict the actual test data\n",
    "classifier_2 = LogisticRegression(max_iter=500).fit(X_train, y_train) #classifier_2 = LogisticRegression(max_iter=500).fit(X_train_freq, y_train)\n",
    "classifier_2_y_pred = classifier_2.predict(X_test) # classifier_2_y_pred = classifier_2.predict(X_test_freq)\n",
    "print(classification_report(y_test, classifier_2_y_pred))\n",
    "print(confusion_matrix(y_test, classifier_2_y_pred))\n",
    "print(accuracy_score(y_test, classifier_2_y_pred))"
   ]
  },
  {
   "cell_type": "code",
   "execution_count": 16,
   "metadata": {},
   "outputs": [],
   "source": [
    "from mlxtend.classifier import StackingCVClassifier\n",
    "from sklearn.ensemble import RandomForestClassifier"
   ]
  },
  {
   "cell_type": "code",
   "execution_count": 17,
   "metadata": {},
   "outputs": [],
   "source": [
    "# Stacking classifier\n",
    "stacked_classifier_1 = RandomForestClassifier(n_estimators=100, min_samples_split=50, min_samples_leaf=1, criterion='gini', n_jobs=-1)\n",
    "stacked_classifier_2 = MultinomialNB()\n",
    "stacked_classifier_3 = LogisticRegression(solver='lbfgs', multi_class='multinomial', max_iter=500, n_jobs=-1)\n",
    "logistic_regression = LogisticRegression(solver='lbfgs', multi_class='multinomial', max_iter=500, n_jobs=-1)\n",
    "stacked_classifier = StackingCVClassifier(classifiers=[stacked_classifier_1, stacked_classifier_2, stacked_classifier_3], meta_classifier=logistic_regression, random_state=0, use_probas=True)"
   ]
  },
  {
   "cell_type": "code",
   "execution_count": 18,
   "metadata": {},
   "outputs": [
    {
     "name": "stdout",
     "output_type": "stream",
     "text": [
      "              precision    recall  f1-score   support\n",
      "\n",
      "           1       0.77      0.79      0.78       581\n",
      "           3       0.76      0.72      0.74      1639\n",
      "           5       0.92      0.93      0.93      4797\n",
      "\n",
      "    accuracy                           0.87      7017\n",
      "   macro avg       0.82      0.82      0.82      7017\n",
      "weighted avg       0.87      0.87      0.87      7017\n",
      "\n",
      "[[ 459   87   35]\n",
      " [ 100 1184  355]\n",
      " [  36  277 4484]]\n",
      "0.8731651703006983\n"
     ]
    }
   ],
   "source": [
    "                                                   #This is if we want to predict the actual test data\n",
    "stacked_classifier.fit(X_train, y_train)   # stacked_classifier.fit(X_train_tfidf, y_train_tfidf)\n",
    "stacked_y_pred = stacked_classifier.predict(X_test) # stacked_y_pred = stacked_classifier.predict(X_test_tfidf)\n",
    "print(classification_report(y_test, stacked_y_pred))\n",
    "print(confusion_matrix(y_test, stacked_y_pred))\n",
    "print(accuracy_score(y_test, stacked_y_pred))"
   ]
  },
  {
   "cell_type": "code",
   "execution_count": 19,
   "metadata": {},
   "outputs": [],
   "source": [
    "#https://stackabuse.com/text-classification-with-python-and-scikit-learn/ \n",
    "#Similar for the data-cleaning"
   ]
  }
 ],
 "metadata": {
  "kernelspec": {
   "display_name": "Python 3",
   "language": "python",
   "name": "python3"
  },
  "language_info": {
   "codemirror_mode": {
    "name": "ipython",
    "version": 3
   },
   "file_extension": ".py",
   "mimetype": "text/x-python",
   "name": "python",
   "nbconvert_exporter": "python",
   "pygments_lexer": "ipython3",
   "version": "3.7.6"
  }
 },
 "nbformat": 4,
 "nbformat_minor": 4
}
